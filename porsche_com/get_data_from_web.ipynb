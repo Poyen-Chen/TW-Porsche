{
 "cells": [
  {
   "cell_type": "code",
   "execution_count": 7,
   "metadata": {},
   "outputs": [],
   "source": [
    "import requests\n",
    "from bs4 import BeautifulSoup\n"
   ]
  },
  {
   "cell_type": "code",
   "execution_count": 9,
   "metadata": {},
   "outputs": [],
   "source": [
    "r = requests.get(\"https://www.porsche.com/germany/models/\")\n",
    "soup = BeautifulSoup(r.text, \"html.parser\")"
   ]
  },
  {
   "cell_type": "code",
   "execution_count": 14,
   "metadata": {},
   "outputs": [],
   "source": [
    "all_models = soup.find_all(\"div\", {\"class\": \"m-14-model-tile-link-overview\"})"
   ]
  },
  {
   "cell_type": "code",
   "execution_count": 36,
   "metadata": {},
   "outputs": [
    {
     "name": "stdout",
     "output_type": "stream",
     "text": [
      "https://www.porsche.com/germany/models/718/718-models/718-cayman/\n"
     ]
    }
   ],
   "source": [
    "url = all_models[0].attrs[\"href\"]\n",
    "print(url)"
   ]
  },
  {
   "cell_type": "code",
   "execution_count": 34,
   "metadata": {},
   "outputs": [],
   "source": [
    "r2 = requests.get(url)\n",
    "soup2 = BeautifulSoup(r2.text, \"html.parser\")"
   ]
  },
  {
   "cell_type": "code",
   "execution_count": 42,
   "metadata": {},
   "outputs": [
    {
     "data": {
      "text/plain": [
       "dict"
      ]
     },
     "execution_count": 42,
     "metadata": {},
     "output_type": "execute_result"
    }
   ],
   "source": [
    "content = soup2.find(\"body\", {\"class\": \"pool-germany lang-none altnav--fallback\"})"
   ]
  },
  {
   "cell_type": "code",
   "execution_count": 47,
   "metadata": {},
   "outputs": [],
   "source": [
    "import json\n",
    "model_data_dict = json.loads(content.attrs[\"data-model\"])"
   ]
  },
  {
   "cell_type": "code",
   "execution_count": 51,
   "metadata": {},
   "outputs": [],
   "source": [
    "with open(\"model_data_output.json\", 'w')as f:\n",
    "    json.dump(model_data_dict, f, indent=4)"
   ]
  },
  {
   "cell_type": "code",
   "execution_count": 62,
   "metadata": {},
   "outputs": [
    {
     "name": "stdout",
     "output_type": "stream",
     "text": [
      "0: 718/718-models/718-cayman/\n",
      "1: 718/718-models/718-boxster/\n",
      "2: 718/718-models/718-cayman-style-edition/\n",
      "3: 718/718-models/718-boxster-style-edition/\n",
      "4: 718/718-models/718-cayman-s/\n",
      "5: 718/718-models/718-boxster-s/\n",
      "6: 718/718-models/718-cayman-gts-4/\n",
      "7: 718/718-models/718-boxster-gts-4/\n",
      "8: 718/718-cayman-gt4-rs/718-cayman-gt4-rs/\n",
      "9: 718/718-spyder-rs/718-spyder-rs/\n",
      "10: 911/carrera-models/911-carrera/\n",
      "11: 911/carrera-models/911-carrera-gts/\n",
      "12: 911/carrera-models/911-carrera-4-gts/\n",
      "13: 911/carrera-models/911-carrera-t/\n",
      "14: 911/carrera-cabriolet-models/911-carrera-cabriolet/\n",
      "15: 911/carrera-cabriolet-models/911-carrera-gts-cabriolet/\n",
      "16: 911/carrera-cabriolet-models/911-carrera-4-gts-cabriolet/\n",
      "17: 911/carrera-cabriolet-models/911-carrera-t-cabriolet/\n",
      "18: 911/targa-models/911-targa-4-gts/\n",
      "19: 911/911-turbo-50/911-turbo-50/\n",
      "20: 911/911-turbo-models/911-turbo/\n",
      "21: 911/911-turbo-models/911-turbo-cabriolet/\n",
      "22: 911/911-turbo-models/911-turbo-s/\n",
      "23: 911/911-turbo-models/911-turbo-s-cabriolet/\n",
      "24: 911/911-gt3-models/911-gt3/\n",
      "25: 911/911-gt3-models/911-gt3-touring/\n",
      "26: 911/911-gt3-rs/911-gt3-rs/\n",
      "27: 911/911-dakar/911-dakar/\n",
      "28: 911/911-st/911-st/\n",
      "29: taycan/taycan-models/taycan/\n",
      "30: taycan/taycan-models/taycan-4s/\n",
      "31: taycan/taycan-models/taycan-turbo/\n",
      "32: taycan/taycan-models/taycan-turbo-s/\n",
      "33: taycan/taycan-models/taycan-turbo-gt/\n",
      "34: taycan/taycan-models/taycan-turbo-gt-wp/\n",
      "35: taycan/taycan-cross-turismo-models/taycan-4-cross-turismo/\n",
      "36: taycan/taycan-cross-turismo-models/taycan-4s-cross-turismo/\n",
      "37: taycan/taycan-cross-turismo-models/taycan-turbo-cross-turismo/\n",
      "38: taycan/taycan-cross-turismo-models/taycan-turbo-s-cross-turismo/\n",
      "39: taycan/taycan-sport-turismo-models/taycan-sport-turismo/\n",
      "40: taycan/taycan-sport-turismo-models/taycan-4s-sport-turismo/\n",
      "41: taycan/taycan-sport-turismo-models/taycan-turbo-sport-turismo/\n",
      "42: taycan/taycan-sport-turismo-models/taycan-turbo-s-sport-turismo/\n",
      "43: panamera/panamera-models/panamera/\n",
      "44: panamera/panamera-models/panamera-4/\n",
      "45: panamera/panamera-models/panamera-4-e-hybrid/\n",
      "46: panamera/panamera-models/panamera-4s-e-hybrid/\n",
      "47: panamera/panamera-models/panamera-gts/\n",
      "48: panamera/panamera-models/panamera-turbo-e-hybrid/\n",
      "49: panamera/panamera-models/panamera-turbo-s-e-hybrid/\n",
      "50: panamera/panamera-executive-models/panamera-4-e-hybrid-executive/\n",
      "51: panamera/panamera-executive-models/panamera-turbo-s-e-hybrid-executive/\n",
      "52: macan/macan-electric-models/macan-electric/\n",
      "53: macan/macan-electric-models/macan-4-electric/\n",
      "54: macan/macan-electric-models/macan-4s-electric/\n",
      "55: macan/macan-electric-models/macan-turbo-electric/\n",
      "56: cayenne/cayenne-models/cayenne/\n",
      "57: cayenne/cayenne-models/cayenne-e-hybrid/\n",
      "58: cayenne/cayenne-models/cayenne-s/\n",
      "59: cayenne/cayenne-models/cayenne-s-e-hybrid/\n",
      "60: cayenne/cayenne-models/cayenne-gts/\n",
      "61: cayenne/cayenne-models/cayenne-turbo-e-hybrid/\n",
      "62: cayenne/cayenne-coupe-models/cayenne-coupe/\n",
      "63: cayenne/cayenne-coupe-models/cayenne-coupe-e-hybrid/\n",
      "64: cayenne/cayenne-coupe-models/cayenne-coupe-s/\n",
      "65: cayenne/cayenne-coupe-models/cayenne-coupe-s-e-hybrid/\n",
      "66: cayenne/cayenne-coupe-models/cayenne-coupe-gts/\n",
      "67: cayenne/cayenne-coupe-models/cayenne-coupe-turbo-e-hybrid/\n",
      "68: cayenne/cayenne-coupe-models/cayenne-coupe-turbo-e-hybrid-gt-package/\n"
     ]
    }
   ],
   "source": [
    "import re, copy\n",
    "pattern = re.compile(r\"m-\\d+-info\")\n",
    "\n",
    "stored_data = {}\n",
    "for i, model_page in enumerate(all_models):\n",
    "    page_url = model_page.attrs[\"href\"]\n",
    "    page_title = page_url.replace(\"https://www.porsche.com/germany/models/\", \"\")\n",
    "    print(f\"{i}: {page_title}\")\n",
    "    rr = requests.get(page_url)\n",
    "    soup_r =  BeautifulSoup(rr.text, \"html.parser\")\n",
    "    content = soup_r.find(\"body\", {\"class\": \"pool-germany lang-none altnav--fallback\"})\n",
    "\n",
    "    divs = soup_r.find_all(\"div\", {\"class\": pattern})\n",
    "    retrieve_text = []\n",
    "    for div in divs:\n",
    "        retrieve_text.append(div.get_text(strip=True))\n",
    "    stored_data[page_title] = copy.deepcopy(retrieve_text)\n",
    "\n",
    "with open(\"model_page_text.json\", 'w') as f:\n",
    "    json.dump(stored_data, f, indent=4)"
   ]
  }
 ],
 "metadata": {
  "kernelspec": {
   "display_name": "porsche",
   "language": "python",
   "name": "python3"
  },
  "language_info": {
   "codemirror_mode": {
    "name": "ipython",
    "version": 3
   },
   "file_extension": ".py",
   "mimetype": "text/x-python",
   "name": "python",
   "nbconvert_exporter": "python",
   "pygments_lexer": "ipython3",
   "version": "3.11.5"
  }
 },
 "nbformat": 4,
 "nbformat_minor": 2
}
