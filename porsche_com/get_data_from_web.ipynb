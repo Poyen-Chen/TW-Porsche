{
 "cells": [
  {
   "cell_type": "code",
   "execution_count": 13,
   "metadata": {},
   "outputs": [],
   "source": [
    "import requests\n",
    "from bs4 import BeautifulSoup\n"
   ]
  },
  {
   "cell_type": "code",
   "execution_count": 14,
   "metadata": {},
   "outputs": [],
   "source": [
    "r = requests.get(\"https://www.porsche.com/international/models/\")\n",
    "soup = BeautifulSoup(r.text, \"html.parser\")"
   ]
  },
  {
   "cell_type": "code",
   "execution_count": 15,
   "metadata": {},
   "outputs": [],
   "source": [
    "all_models = soup.find_all(\"div\", {\"class\": \"m-14-model-tile-link-overview\"})"
   ]
  },
  {
   "cell_type": "code",
   "execution_count": 16,
   "metadata": {},
   "outputs": [
    {
     "name": "stdout",
     "output_type": "stream",
     "text": [
      "https://www.porsche.com/international/models/718/718-models/718-cayman/\n"
     ]
    }
   ],
   "source": [
    "url = all_models[0].attrs[\"href\"]\n",
    "print(url)"
   ]
  },
  {
   "cell_type": "code",
   "execution_count": 17,
   "metadata": {},
   "outputs": [],
   "source": [
    "r2 = requests.get(url)\n",
    "soup2 = BeautifulSoup(r2.text, \"html.parser\")"
   ]
  },
  {
   "cell_type": "code",
   "execution_count": 18,
   "metadata": {},
   "outputs": [],
   "source": [
    "content = soup2.find(\"body\", {\"class\": \"pool-international lang-none altnav--fallback\"})"
   ]
  },
  {
   "cell_type": "code",
   "execution_count": 19,
   "metadata": {},
   "outputs": [],
   "source": [
    "import json\n",
    "model_data_dict = json.loads(content.attrs[\"data-model\"])"
   ]
  },
  {
   "cell_type": "code",
   "execution_count": 20,
   "metadata": {},
   "outputs": [],
   "source": [
    "with open(\"model_data_output.json\", 'w')as f:\n",
    "    json.dump(model_data_dict, f, indent=4)"
   ]
  },
  {
   "cell_type": "code",
   "execution_count": 21,
   "metadata": {},
   "outputs": [
    {
     "name": "stdout",
     "output_type": "stream",
     "text": [
      "0: 718/718-models/718-cayman/\n",
      "1: 718/718-models/718-boxster/\n",
      "2: 718/718-models/718-cayman-style-edition/\n",
      "3: 718/718-models/718-boxster-style-edition/\n",
      "4: 718/718-models/718-cayman-s/\n",
      "5: 718/718-models/718-boxster-s/\n",
      "6: 718/718-models/718-cayman-gts-4/\n",
      "7: 718/718-models/718-boxster-gts-4/\n",
      "8: 718/718-cayman-gt4-rs/718-cayman-gt4-rs/\n",
      "9: 718/718-spyder-rs/718-spyder-rs/\n",
      "10: 911/carrera-models/911-carrera/\n",
      "11: 911/carrera-models/911-carrera-gts/\n",
      "12: 911/carrera-models/911-carrera-4-gts/\n",
      "13: 911/carrera-models/911-carrera-t/\n",
      "14: 911/carrera-cabriolet-models/911-carrera-cabriolet/\n",
      "15: 911/carrera-cabriolet-models/911-carrera-gts-cabriolet/\n",
      "16: 911/carrera-cabriolet-models/911-carrera-4-gts-cabriolet/\n",
      "17: 911/carrera-cabriolet-models/911-carrera-t-cabriolet/\n",
      "18: 911/targa-models/911-targa-4-gts/\n",
      "19: 911/911-turbo-50/911-turbo-50/\n",
      "20: 911/911-turbo-models/911-turbo/\n",
      "21: 911/911-turbo-models/911-turbo-cabriolet/\n",
      "22: 911/911-turbo-models/911-turbo-s/\n",
      "23: 911/911-turbo-models/911-turbo-s-cabriolet/\n",
      "24: 911/911-gt3-models/911-gt3/\n",
      "25: 911/911-gt3-models/911-gt3-touring/\n",
      "26: 911/911-gt3-rs/911-gt3-rs/\n",
      "27: 911/911-dakar/911-dakar/\n",
      "28: 911/911-st/911-st/\n",
      "29: taycan/taycan-models/taycan/\n",
      "30: taycan/taycan-models/taycan-4/\n",
      "31: taycan/taycan-models/taycan-4s/\n",
      "32: taycan/taycan-models/taycan-gts/\n",
      "33: taycan/taycan-models/taycan-turbo/\n",
      "34: taycan/taycan-models/taycan-turbo-s/\n",
      "35: taycan/taycan-models/taycan-turbo-gt/\n",
      "36: taycan/taycan-models/taycan-turbo-gt-wp/\n",
      "37: taycan/taycan-cross-turismo-models/taycan-4-cross-turismo/\n",
      "38: taycan/taycan-cross-turismo-models/taycan-4s-cross-turismo/\n",
      "39: taycan/taycan-cross-turismo-models/taycan-turbo-cross-turismo/\n",
      "40: taycan/taycan-cross-turismo-models/taycan-turbo-s-cross-turismo/\n",
      "41: taycan/taycan-sport-turismo-models/taycan-sport-turismo/\n",
      "42: taycan/taycan-sport-turismo-models/taycan-4s-sport-turismo/\n",
      "43: taycan/taycan-sport-turismo-models/taycan-gts-sport-turismo/\n",
      "44: taycan/taycan-sport-turismo-models/taycan-turbo-sport-turismo/\n",
      "45: taycan/taycan-sport-turismo-models/taycan-turbo-s-sport-turismo/\n",
      "46: panamera/panamera-models/panamera/\n",
      "47: panamera/panamera-models/panamera-4/\n",
      "48: panamera/panamera-models/panamera-4-e-hybrid/\n",
      "49: panamera/panamera-models/panamera-4s-e-hybrid/\n",
      "50: panamera/panamera-models/panamera-gts/\n",
      "51: panamera/panamera-models/panamera-turbo-e-hybrid/\n",
      "52: panamera/panamera-models/panamera-turbo-s-e-hybrid/\n",
      "53: panamera/panamera-executive-models/panamera-4-e-hybrid-executive/\n",
      "54: panamera/panamera-executive-models/panamera-turbo-s-e-hybrid-executive/\n",
      "55: macan/macan-electric-models/macan-electric/\n",
      "56: macan/macan-electric-models/macan-4-electric/\n",
      "57: macan/macan-electric-models/macan-4s-electric/\n",
      "58: macan/macan-electric-models/macan-turbo-electric/\n",
      "59: macan/macan-models/macan/\n",
      "60: macan/macan-models/macan-t/\n",
      "61: macan/macan-models/macan-s/\n",
      "62: macan/macan-models/macan-gts/\n",
      "63: cayenne/cayenne-models/cayenne/\n",
      "64: cayenne/cayenne-models/cayenne-e-hybrid/\n",
      "65: cayenne/cayenne-models/cayenne-s/\n",
      "66: cayenne/cayenne-models/cayenne-s-e-hybrid/\n",
      "67: cayenne/cayenne-models/cayenne-gts/\n",
      "68: cayenne/cayenne-models/cayenne-turbo-e-hybrid/\n",
      "69: cayenne/cayenne-coupe-models/cayenne-coupe/\n",
      "70: cayenne/cayenne-coupe-models/cayenne-coupe-e-hybrid/\n",
      "71: cayenne/cayenne-coupe-models/cayenne-coupe-s/\n",
      "72: cayenne/cayenne-coupe-models/cayenne-coupe-s-e-hybrid/\n",
      "73: cayenne/cayenne-coupe-models/cayenne-coupe-gts/\n",
      "74: cayenne/cayenne-coupe-models/cayenne-coupe-turbo-e-hybrid/\n",
      "75: cayenne/cayenne-coupe-models/cayenne-coupe-turbo-e-hybrid-gt-package/\n"
     ]
    }
   ],
   "source": [
    "import re, copy\n",
    "from selenium import webdriver\n",
    "from selenium.webdriver.common.by import By\n",
    "from selenium.webdriver.chrome.options import Options\n",
    "\n",
    "options = Options()\n",
    "options.add_argument(\"--headless\")\n",
    "\n",
    "driver = None\n",
    "\n",
    "pattern = re.compile(r\"m-\\d+-info\")\n",
    "\n",
    "stored_data = {}\n",
    "for i, model_page in enumerate(all_models):\n",
    "    page_url = model_page.attrs[\"href\"]\n",
    "    page_title = page_url.replace(\"https://www.porsche.com/international/models/\", \"\")\n",
    "    print(f\"{i}: {page_title}\")\n",
    "    rr = requests.get(page_url)\n",
    "    soup_r =  BeautifulSoup(rr.text, \"html.parser\")\n",
    "\n",
    "    divs = soup_r.find_all(\"div\", {\"class\": pattern})\n",
    "    retrieve_text = []\n",
    "    for div in divs:\n",
    "        retrieve_text.append(div.get_text(strip=True))\n",
    "\n",
    "    if retrieve_text == []:\n",
    "        if driver is None:\n",
    "            driver = webdriver.Chrome(options=options)\n",
    "        driver.get(page_url)\n",
    "        driver.implicitly_wait(2)\n",
    "        sections = driver.find_elements(By.CLASS_NAME, \"PcomModuleWrapper__root__1eec4\")\n",
    "\n",
    "        for i, section in enumerate(sections):\n",
    "            text = section.text.strip()  \n",
    "            if text:  \n",
    "                retrieve_text.append(text)\n",
    "    \n",
    "    stored_data[page_title] = copy.deepcopy(retrieve_text)\n",
    "\n",
    "with open(\"model_page_text.json\", 'w') as f:\n",
    "    json.dump(stored_data, f, indent=4)\n",
    "\n",
    "if driver is not None:\n",
    "    driver.quit()"
   ]
  },
  {
   "cell_type": "code",
   "execution_count": 26,
   "metadata": {},
   "outputs": [],
   "source": [
    "url = \"https://www.porsche.com/international/models/911/carrera-models/911-carrera/\"\n",
    "r3 = requests.get(url)\n",
    "soup3 = BeautifulSoup(r3.text, \"html.parser\")\n",
    "content = soup3.find_all(\"section\", {\"class\": \"PcomModuleWrapper__root__1eec4 PcomModuleWrapper__background-none__1eec4\"})"
   ]
  },
  {
   "cell_type": "code",
   "execution_count": 10,
   "metadata": {},
   "outputs": [],
   "source": [
    "from selenium import webdriver\n",
    "from selenium.webdriver.common.by import By\n",
    "from selenium.webdriver.chrome.options import Options\n",
    "\n",
    "options = Options()\n",
    "options.add_argument(\"--headless\")\n",
    "\n",
    "driver = webdriver.Chrome(options=options)\n",
    "driver.get(\"https://www.porsche.com/international/models/911/carrera-models/911-carrera/\")\n",
    "\n",
    "driver.implicitly_wait(4)\n",
    "sections = driver.find_elements(By.CLASS_NAME, \"PcomModuleWrapper__root__1eec4\")\n",
    "\n",
    "text_list = []\n",
    "for i, section in enumerate(sections):\n",
    "    text = section.text.strip()  \n",
    "    if text:  \n",
    "        text_list.append(text)\n",
    "\n",
    "driver.quit()"
   ]
  },
  {
   "cell_type": "code",
   "execution_count": 11,
   "metadata": {},
   "outputs": [
    {
     "data": {
      "text/plain": [
       "['911 Carrera\\nGasoline\\nCoupé\\nCabriolet\\nTarga\\nGT\\nChange model\\nConfigure\\nFuel consumption combined: 10.7 – 10.1 l/100 km, CO2-emissions combined (WLTP)*: 244 – 230 g/km, CO2 Class: G',\n",
       " '.\\ns\\nAcceleration 0 - 100 km/h with Sport Chrono Package\\nkW\\n/\\nPS\\nPower (kW)/Power (PS)\\nkm/h\\nTop speed\\nView all technical details',\n",
       " 'The one and always.\\nAnyone who dreams of a Porsche usually has an image in their mind: the 911 has been the epitome of an exciting, powerful sports car with day-to-day usability for 60 years. Take a seat behind the wheel of the new 911 and become part of a unique community.',\n",
       " \"Drive.\\nSpecial traditions stand the test of time: the heart of the 911 still beats at the rear – and sets the pulse of Porsche enthusiasts racing even faster than it did 60 years ago.\\nEngine\\nPDK\\n3.0-litre flat-6 engine.\\nThe powerful 3.0-litre 6-cylinder flat engine with twin turbochargers will give you goosebumps with its incomparable sound alone. The horizontally opposed construction and the traditional position in the rear end of the vehicle also allows for a low centre of gravity.\\nPerformance.\\nPeak performance: 290 kW (394 PS). Top speed: 294 km/h. With this technical data, a maximum torque of 450 Nm and a sprint from 0 to 100 km/h in 4.1 s, it's highly unlikely that you will ever want to get out again.\\nPDK.\\nThe 8-speed Porsche Doppelkupplung (PDK) allows extremely fast gear changes without interrupting the flow of power – even by a millisecond. The PDK combines sports tuning in 1st to 6th gear with efficient overdrive ratios (7th and 8th gear).\\nFuel consumption combined: 10.7 – 10.1 l/100 km, CO2-emissions combined (WLTP)*: 244 – 230 g/km, CO2 Class: G\",\n",
       " 'Engine sound.\\nStill emotional: the unmistakable sound of the 6-cylinder flat engine.\\nPorsche 911 Carrera GTS engine sound while accelerating to a certain speed and during subsequent deceleration after reaching that speed.\\n Loading',\n",
       " 'Highlights.',\n",
       " 'Unmistakeable. From every perspective.\\nInterior\\nExterior\\nStart 360° view',\n",
       " 'Driving dynamics.\\nCrucial to the unique 911 driving experience: the optimal set-up. This includes new engine mountings and a completely revised chassis and even wider wheels to transform the increased power output into breathtaking dynamics.\\nPASM sports chassis1.\\nWith the PASM sports chassis1, the body sits 10 mm lower than the standard PASM chassis, the springs are harder and shorter, and the rear axle has helper springs proven in motorsport – for significantly sportier spring rates.\\n\\n1Standard for 911 Carrera GTS and 911 Carrera 4 GTS.\\nRear-axle steering1.\\nThe rear-axle steering1 included as standard with GTS models enhances performance and day-to-day usability in equal measure. At low speeds, it makes manoeuvring or turning easier. At higher speeds, it significantly increases driving stability.\\n\\n1Not available for 911 Carrera.\\nPTV Plus1.\\nPTV Plus1 enhances vehicle dynamics and stability by applying brake pressure to the rear wheels, in conjunction with a rear differential lock. For increased stability, outstanding traction and high agility at any speed.\\n\\n\\n1Not available for 911 Carrera.\\nPDCC1.\\nFor active roll stabilisation, the optionally available Porsche Dynamic Chassis Control (PDCC)1 minimises the lateral inclination of the vehicle during dynamic cornering. For improved driving dynamics, even more neutral handling and increased ride comfort – whatever the speed.\\n\\n\\n1Not available for 911 Carrera.\\nPCCB1.\\nThe Porsche Ceramic Composite Brake (PCCB)1 enables even greater braking performance and constant brake pressure. The extremely low weight of the ceramic brake discs significantly improves the traction and comfort.\\n\\n\\n1Optionally available. Not available for 911 Carrera.',\n",
       " 'Porsche Connect.\\nWith numerous services and the My Porsche app, Porsche Connect is your smart co-pilot for day-to-day use.\\nDiscover Porsche Connect',\n",
       " 'Which 911 is the right one for you?\\nCoupé\\nCabriolet\\nTarga\\nGT\\nGasoline\\nConfigure\\nTechnical Data\\nGasoline\\nConfigure\\nTechnical Data\\nGasoline\\nConfigure\\nTechnical Data\\nGasoline\\nConfigure\\nTechnical Data\\nWant to see a detailed comparison of multiple vehicles?\\nCompare details',\n",
       " 'Configure your dream car.',\n",
       " \"Paint to Sample.\\nDiscover Porsche Exclusive Manufaktur's very special exterior colours for your 911.\\nDiscover colour choices\\nFinishing.\\nDiscover Porsche Exclusive Manufaktur's customization options for the interior and exterior of your vehicle.\\nTo Porsche Exclusive Manufaktur\\nContact.\\nContact a Porsche Centre near you.\\nGo to contact form\",\n",
       " 'Consumption and Emissions.\\n911 Carrera (WLTP)*: Fuel consumption combined: 10.7 – 10.1 l/100 km, CO2-emissions combined (WLTP)*: 244 – 230 g/km, CO2 Class: G, 911 Carrera GTS (WLTP)*: Fuel consumption combined: 11.0 – 10.5 l/100 km, CO2-emissions combined (WLTP)*: 251 – 239 g/km, CO2 Class: G, 911 Carrera 4 GTS (WLTP)*: Fuel consumption combined: 11.1 – 10.5 l/100 km, CO2-emissions combined (WLTP)*: 251 – 239 g/km, CO2 Class: G, 911 Carrera T (WLTP)*: Fuel consumption combined: 11.1 – 10.5 l/100 km (preliminary value), CO2-emissions combined (WLTP)*: 251 – 238 g/km (preliminary value)']"
      ]
     },
     "execution_count": 11,
     "metadata": {},
     "output_type": "execute_result"
    }
   ],
   "source": [
    "text_list"
   ]
  },
  {
   "cell_type": "code",
   "execution_count": null,
   "metadata": {},
   "outputs": [],
   "source": []
  }
 ],
 "metadata": {
  "kernelspec": {
   "display_name": "porsche",
   "language": "python",
   "name": "python3"
  },
  "language_info": {
   "codemirror_mode": {
    "name": "ipython",
    "version": 3
   },
   "file_extension": ".py",
   "mimetype": "text/x-python",
   "name": "python",
   "nbconvert_exporter": "python",
   "pygments_lexer": "ipython3",
   "version": "3.13.0"
  }
 },
 "nbformat": 4,
 "nbformat_minor": 2
}
