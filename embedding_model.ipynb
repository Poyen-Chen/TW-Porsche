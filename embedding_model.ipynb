{
  "cells": [
    {
      "cell_type": "code",
      "source": [
        "!pip install -U sentence_transformers\n",
        "!pip install xformers"
      ],
      "metadata": {
        "colab": {
          "base_uri": "https://localhost:8080/"
        },
        "id": "iUyqX2SE_E_C",
        "outputId": "fc16a11e-a753-4164-b9b3-ad69a61491a6"
      },
      "id": "iUyqX2SE_E_C",
      "execution_count": 1,
      "outputs": [
        {
          "output_type": "stream",
          "name": "stdout",
          "text": [
            "Requirement already satisfied: sentence_transformers in /usr/local/lib/python3.10/dist-packages (3.3.1)\n",
            "Requirement already satisfied: transformers<5.0.0,>=4.41.0 in /usr/local/lib/python3.10/dist-packages (from sentence_transformers) (4.46.2)\n",
            "Requirement already satisfied: tqdm in /usr/local/lib/python3.10/dist-packages (from sentence_transformers) (4.66.6)\n",
            "Requirement already satisfied: torch>=1.11.0 in /usr/local/lib/python3.10/dist-packages (from sentence_transformers) (2.5.1+cu121)\n",
            "Requirement already satisfied: scikit-learn in /usr/local/lib/python3.10/dist-packages (from sentence_transformers) (1.5.2)\n",
            "Requirement already satisfied: scipy in /usr/local/lib/python3.10/dist-packages (from sentence_transformers) (1.13.1)\n",
            "Requirement already satisfied: huggingface-hub>=0.20.0 in /usr/local/lib/python3.10/dist-packages (from sentence_transformers) (0.26.2)\n",
            "Requirement already satisfied: Pillow in /usr/local/lib/python3.10/dist-packages (from sentence_transformers) (11.0.0)\n",
            "Requirement already satisfied: filelock in /usr/local/lib/python3.10/dist-packages (from huggingface-hub>=0.20.0->sentence_transformers) (3.16.1)\n",
            "Requirement already satisfied: fsspec>=2023.5.0 in /usr/local/lib/python3.10/dist-packages (from huggingface-hub>=0.20.0->sentence_transformers) (2024.10.0)\n",
            "Requirement already satisfied: packaging>=20.9 in /usr/local/lib/python3.10/dist-packages (from huggingface-hub>=0.20.0->sentence_transformers) (24.2)\n",
            "Requirement already satisfied: pyyaml>=5.1 in /usr/local/lib/python3.10/dist-packages (from huggingface-hub>=0.20.0->sentence_transformers) (6.0.2)\n",
            "Requirement already satisfied: requests in /usr/local/lib/python3.10/dist-packages (from huggingface-hub>=0.20.0->sentence_transformers) (2.32.3)\n",
            "Requirement already satisfied: typing-extensions>=3.7.4.3 in /usr/local/lib/python3.10/dist-packages (from huggingface-hub>=0.20.0->sentence_transformers) (4.12.2)\n",
            "Requirement already satisfied: networkx in /usr/local/lib/python3.10/dist-packages (from torch>=1.11.0->sentence_transformers) (3.4.2)\n",
            "Requirement already satisfied: jinja2 in /usr/local/lib/python3.10/dist-packages (from torch>=1.11.0->sentence_transformers) (3.1.4)\n",
            "Requirement already satisfied: sympy==1.13.1 in /usr/local/lib/python3.10/dist-packages (from torch>=1.11.0->sentence_transformers) (1.13.1)\n",
            "Requirement already satisfied: mpmath<1.4,>=1.1.0 in /usr/local/lib/python3.10/dist-packages (from sympy==1.13.1->torch>=1.11.0->sentence_transformers) (1.3.0)\n",
            "Requirement already satisfied: numpy>=1.17 in /usr/local/lib/python3.10/dist-packages (from transformers<5.0.0,>=4.41.0->sentence_transformers) (1.26.4)\n",
            "Requirement already satisfied: regex!=2019.12.17 in /usr/local/lib/python3.10/dist-packages (from transformers<5.0.0,>=4.41.0->sentence_transformers) (2024.9.11)\n",
            "Requirement already satisfied: safetensors>=0.4.1 in /usr/local/lib/python3.10/dist-packages (from transformers<5.0.0,>=4.41.0->sentence_transformers) (0.4.5)\n",
            "Requirement already satisfied: tokenizers<0.21,>=0.20 in /usr/local/lib/python3.10/dist-packages (from transformers<5.0.0,>=4.41.0->sentence_transformers) (0.20.3)\n",
            "Requirement already satisfied: joblib>=1.2.0 in /usr/local/lib/python3.10/dist-packages (from scikit-learn->sentence_transformers) (1.4.2)\n",
            "Requirement already satisfied: threadpoolctl>=3.1.0 in /usr/local/lib/python3.10/dist-packages (from scikit-learn->sentence_transformers) (3.5.0)\n",
            "Requirement already satisfied: MarkupSafe>=2.0 in /usr/local/lib/python3.10/dist-packages (from jinja2->torch>=1.11.0->sentence_transformers) (3.0.2)\n",
            "Requirement already satisfied: charset-normalizer<4,>=2 in /usr/local/lib/python3.10/dist-packages (from requests->huggingface-hub>=0.20.0->sentence_transformers) (3.4.0)\n",
            "Requirement already satisfied: idna<4,>=2.5 in /usr/local/lib/python3.10/dist-packages (from requests->huggingface-hub>=0.20.0->sentence_transformers) (3.10)\n",
            "Requirement already satisfied: urllib3<3,>=1.21.1 in /usr/local/lib/python3.10/dist-packages (from requests->huggingface-hub>=0.20.0->sentence_transformers) (2.2.3)\n",
            "Requirement already satisfied: certifi>=2017.4.17 in /usr/local/lib/python3.10/dist-packages (from requests->huggingface-hub>=0.20.0->sentence_transformers) (2024.8.30)\n",
            "Requirement already satisfied: xformers in /usr/local/lib/python3.10/dist-packages (0.0.28.post3)\n",
            "Requirement already satisfied: numpy in /usr/local/lib/python3.10/dist-packages (from xformers) (1.26.4)\n",
            "Requirement already satisfied: torch==2.5.1 in /usr/local/lib/python3.10/dist-packages (from xformers) (2.5.1+cu121)\n",
            "Requirement already satisfied: filelock in /usr/local/lib/python3.10/dist-packages (from torch==2.5.1->xformers) (3.16.1)\n",
            "Requirement already satisfied: typing-extensions>=4.8.0 in /usr/local/lib/python3.10/dist-packages (from torch==2.5.1->xformers) (4.12.2)\n",
            "Requirement already satisfied: networkx in /usr/local/lib/python3.10/dist-packages (from torch==2.5.1->xformers) (3.4.2)\n",
            "Requirement already satisfied: jinja2 in /usr/local/lib/python3.10/dist-packages (from torch==2.5.1->xformers) (3.1.4)\n",
            "Requirement already satisfied: fsspec in /usr/local/lib/python3.10/dist-packages (from torch==2.5.1->xformers) (2024.10.0)\n",
            "Requirement already satisfied: sympy==1.13.1 in /usr/local/lib/python3.10/dist-packages (from torch==2.5.1->xformers) (1.13.1)\n",
            "Requirement already satisfied: mpmath<1.4,>=1.1.0 in /usr/local/lib/python3.10/dist-packages (from sympy==1.13.1->torch==2.5.1->xformers) (1.3.0)\n",
            "Requirement already satisfied: MarkupSafe>=2.0 in /usr/local/lib/python3.10/dist-packages (from jinja2->torch==2.5.1->xformers) (3.0.2)\n"
          ]
        }
      ]
    },
    {
      "cell_type": "code",
      "execution_count": 2,
      "id": "3c082570-e6e2-4a6b-b2e4-77e28ff4e54b",
      "metadata": {
        "id": "3c082570-e6e2-4a6b-b2e4-77e28ff4e54b"
      },
      "outputs": [],
      "source": [
        "import os\n",
        "import json\n",
        "from sentence_transformers import SentenceTransformer\n",
        "#from langchain_community.document_loaders import PyPDFLoader\n",
        "#from langchain_text_splitters import RecursiveCharacterTextSplitter"
      ]
    },
    {
      "cell_type": "markdown",
      "source": [
        "## Sentence transfomer baseline model\n",
        "We choose `stella_en_400M_v5` model from [MTEB leaderboard](https://huggingface.co/spaces/mteb/leaderboard)."
      ],
      "metadata": {
        "id": "6INo3bZDF7QB"
      },
      "id": "6INo3bZDF7QB"
    },
    {
      "cell_type": "code",
      "execution_count": 28,
      "id": "60c35783-8c8c-48e6-9c48-6af038426916",
      "metadata": {
        "colab": {
          "base_uri": "https://localhost:8080/"
        },
        "id": "60c35783-8c8c-48e6-9c48-6af038426916",
        "outputId": "de223aba-f2a5-4e72-c789-8cc5c8b55fc0"
      },
      "outputs": [
        {
          "output_type": "stream",
          "name": "stderr",
          "text": [
            "Some weights of the model checkpoint at dunzhang/stella_en_400M_v5 were not used when initializing NewModel: ['new.pooler.dense.bias', 'new.pooler.dense.weight']\n",
            "- This IS expected if you are initializing NewModel from the checkpoint of a model trained on another task or with another architecture (e.g. initializing a BertForSequenceClassification model from a BertForPreTraining model).\n",
            "- This IS NOT expected if you are initializing NewModel from the checkpoint of a model that you expect to be exactly identical (initializing a BertForSequenceClassification model from a BertForSequenceClassification model).\n"
          ]
        },
        {
          "output_type": "stream",
          "name": "stdout",
          "text": [
            "(6, 1024) (6, 1024)\n"
          ]
        }
      ],
      "source": [
        "query_prompt_name = \"s2p_query\"\n",
        "queries = [\n",
        "    \"What material is the rear wing of the 718 Cayman GT4 RS made of?\",\n",
        "    \"What is the unique feature of the Cayenne Turbo GT?\",\n",
        "    \"What customization options are available for the Taycan Cross Turismo?\",\n",
        "    \"What is the combined CO₂ emissions for the 718 Cayman GTS 4.0?\",\n",
        "    \"What is the GTS model?\",\n",
        "    \"What is the history of Cayenne?\"\n",
        "]\n",
        "\n",
        "docs = [\n",
        "    \"Carbon fiber reinforced plastic (CFRP).\",\n",
        "    \"It offers 471 kW (640 PS) and is optimized for high performance.\",\n",
        "    \"Exclusive paint finishes, interior trims, and wheel designs.\",\n",
        "    \"The 718 Cayman GTS 4.0 produces zero CO₂ emissions because it is fully electric.\",\n",
        "    \"GTS model is a great coaching system for MCQ practicing, which G stands for Guardian, T for Teacher and S for Student.\",\n",
        "    \"The history of Cayenne can be first traced back to pre-Columbian times.\"\n",
        "]\n",
        "\n",
        "# ！The default dimension is 1024, if you need other dimensions, please clone the model and modify `modules.json` to replace `2_Dense_1024` with another dimension, e.g. `2_Dense_256` or `2_Dense_8192` !\n",
        "# on gpu\n",
        "model = SentenceTransformer(\"dunzhang/stella_en_400M_v5\", trust_remote_code=True).cuda()\n",
        "# you can also use this model without the features of `use_memory_efficient_attention` and `unpad_inputs`. It can be worked in CPU.\n",
        "# model = SentenceTransformer(\n",
        "#     \"dunzhang/stella_en_400M_v5\",\n",
        "#     trust_remote_code=True,\n",
        "#     device=\"cpu\",\n",
        "#     config_kwargs={\"use_memory_efficient_attention\": False, \"unpad_inputs\": False}\n",
        "# )\n",
        "query_embeddings = model.encode(queries, prompt_name=query_prompt_name)\n",
        "doc_embeddings = model.encode(docs)\n",
        "print(query_embeddings.shape, doc_embeddings.shape)"
      ]
    },
    {
      "cell_type": "markdown",
      "source": [
        "### Issue 1: positive example sentence pairs but low similariy"
      ],
      "metadata": {
        "id": "sU3Owx1-wv-Q"
      },
      "id": "sU3Owx1-wv-Q"
    },
    {
      "cell_type": "code",
      "source": [
        "for i in range(3):\n",
        "    similarities = model.similarity(query_embeddings[i], doc_embeddings[i])\n",
        "    print(f\"Uesr Query: {queries[i]}\")\n",
        "    print(f\"Answer: {docs[i]}\")\n",
        "    print(f\"Similarity score: {similarities.data.cpu().numpy()[0][0]} \\n\\n\")"
      ],
      "metadata": {
        "colab": {
          "base_uri": "https://localhost:8080/"
        },
        "id": "Lzzjkq72D68c",
        "outputId": "2b8c6fbf-b181-4f65-8c92-b7ab1b7f5dd1"
      },
      "id": "Lzzjkq72D68c",
      "execution_count": 29,
      "outputs": [
        {
          "output_type": "stream",
          "name": "stdout",
          "text": [
            "Uesr Query: What material is the rear wing of the 718 Cayman GT4 RS made of?\n",
            "Answer: Carbon fiber reinforced plastic (CFRP).\n",
            "Similarity score: 0.5579701066017151 \n",
            "\n",
            "\n",
            "Uesr Query: What is the unique feature of the Cayenne Turbo GT?\n",
            "Answer: It offers 471 kW (640 PS) and is optimized for high performance.\n",
            "Similarity score: 0.4106892943382263 \n",
            "\n",
            "\n",
            "Uesr Query: What customization options are available for the Taycan Cross Turismo?\n",
            "Answer: Exclusive paint finishes, interior trims, and wheel designs.\n",
            "Similarity score: 0.5345098376274109 \n",
            "\n",
            "\n"
          ]
        }
      ]
    },
    {
      "cell_type": "markdown",
      "source": [
        "### Issue 2: negative example sentence pairs but high similariy"
      ],
      "metadata": {
        "id": "1yiA5GPNwx_g"
      },
      "id": "1yiA5GPNwx_g"
    },
    {
      "cell_type": "code",
      "source": [
        "for i in range(3, 6):\n",
        "    similarities = model.similarity(query_embeddings[i], doc_embeddings[i])\n",
        "    print(f\"Uesr Query: {queries[i]}\")\n",
        "    print(f\"Answer: {docs[i]}\")\n",
        "    print(f\"Similarity score: {similarities.data.cpu().numpy()[0][0]} \\n\\n\")"
      ],
      "metadata": {
        "colab": {
          "base_uri": "https://localhost:8080/"
        },
        "id": "4TW93ylsOoci",
        "outputId": "86f9f1f5-3375-4d9b-b530-910d9ef641e5"
      },
      "id": "4TW93ylsOoci",
      "execution_count": 27,
      "outputs": [
        {
          "output_type": "stream",
          "name": "stdout",
          "text": [
            "Uesr Query: What is the combined CO₂ emissions for the 718 Cayman GTS 4.0?\n",
            "Answer: The 718 Cayman GTS 4.0 produces zero CO₂ emissions because it is fully electric.\n",
            "Similarity score: 0.8328068256378174 \n",
            "\n",
            "\n",
            "Uesr Query: What is the GTS model?\n",
            "Answer: GTS model is a great coaching system for MCQ practicing, which G stands for Guardian, T for Teacher and S for Student.\n",
            "Similarity score: 0.7170215845108032 \n",
            "\n",
            "\n",
            "Uesr Query: What is the history of Cayenne?\n",
            "Answer: The history of Cayenne can be first traced back to pre-Columbian times.\n",
            "Similarity score: 0.8268212676048279 \n",
            "\n",
            "\n"
          ]
        }
      ]
    },
    {
      "cell_type": "markdown",
      "source": [
        "## The results suggest that we can further fine-tune the pretrained models."
      ],
      "metadata": {
        "id": "1UzC7R_UR25M"
      },
      "id": "1UzC7R_UR25M"
    },
    {
      "cell_type": "code",
      "source": [],
      "metadata": {
        "id": "5TOwV4YuR93G"
      },
      "id": "5TOwV4YuR93G",
      "execution_count": null,
      "outputs": []
    }
  ],
  "metadata": {
    "kernelspec": {
      "display_name": "Python 3",
      "name": "python3"
    },
    "language_info": {
      "name": "python"
    },
    "colab": {
      "provenance": [],
      "gpuType": "T4"
    },
    "accelerator": "GPU"
  },
  "nbformat": 4,
  "nbformat_minor": 5
}